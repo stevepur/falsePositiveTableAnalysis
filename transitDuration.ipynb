{
 "cells": [
  {
   "cell_type": "code",
   "execution_count": 2,
   "metadata": {},
   "outputs": [],
   "source": [
    "import numpy as np"
   ]
  },
  {
   "cell_type": "code",
   "execution_count": 8,
   "metadata": {},
   "outputs": [
    {
     "name": "stdout",
     "output_type": "stream",
     "text": [
      "7.514577627023216 hours\n"
     ]
    }
   ],
   "source": [
    "# D given b, R, M, P\n",
    "R = 1.798267\n",
    "M = 1.329826\n",
    "P = 324.8712467\n",
    "b = 0.93\n",
    "D_obs = 4.756\n",
    "\n",
    "D = 13*R*np.sqrt(1-b*b)*(M**(-1/3))*(P/365.24)**(1/3)\n",
    "print(str(D) + \" hours\")"
   ]
  },
  {
   "cell_type": "code",
   "execution_count": 9,
   "metadata": {},
   "outputs": [
    {
     "name": "stdout",
     "output_type": "stream",
     "text": [
      "0.9725654097993042\n"
     ]
    }
   ],
   "source": [
    "# required b value given R, M, P, and D\n",
    "b_req = np.sqrt(-(((D_obs*M**(1/3))/(13*R))*(P/365.24)**(-1/3))**2 + 1)\n",
    "print(b_req)"
   ]
  },
  {
   "cell_type": "code",
   "execution_count": 43,
   "metadata": {},
   "outputs": [
    {
     "name": "stdout",
     "output_type": "stream",
     "text": [
      "0.2476106678638559 Solar radii\n"
     ]
    }
   ],
   "source": [
    "# required R value given P, M, b, and D\n",
    "R_req = (D_obs*M**(1/3))/(13*np.sqrt(1-b**2)) * (P/365.24)**(-1/3)\n",
    "print(R_req, \"Solar radii\")"
   ]
  },
  {
   "cell_type": "code",
   "execution_count": 7,
   "metadata": {},
   "outputs": [
    {
     "name": "stdout",
     "output_type": "stream",
     "text": [
      "3.5655792634266175 hours\n"
     ]
    }
   ],
   "source": [
    "# D given b, R, M, P\n",
    "R = 0.5317-0.014\n",
    "M = 0.556-0.018\n",
    "P = 31.065582\n",
    "b = 0.20\n",
    "D_obs = 1.624\n",
    "\n",
    "D = 13*R*np.sqrt(1-b*b)*(M**(-1/3))*(P/365.24)**(1/3)\n",
    "print(str(D) + \" hours\")"
   ]
  },
  {
   "cell_type": "code",
   "execution_count": null,
   "metadata": {},
   "outputs": [],
   "source": []
  }
 ],
 "metadata": {
  "kernelspec": {
   "display_name": "Python 3",
   "language": "python",
   "name": "python3"
  },
  "language_info": {
   "codemirror_mode": {
    "name": "ipython",
    "version": 3
   },
   "file_extension": ".py",
   "mimetype": "text/x-python",
   "name": "python",
   "nbconvert_exporter": "python",
   "pygments_lexer": "ipython3",
   "version": "3.8.5"
  }
 },
 "nbformat": 4,
 "nbformat_minor": 4
}
