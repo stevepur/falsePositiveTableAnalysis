{
 "cells": [
  {
   "cell_type": "code",
   "execution_count": 1,
   "metadata": {},
   "outputs": [],
   "source": [
    "import matplotlib.pyplot as plt\n",
    "# follow the tutorial at http://docs.lightkurve.org/tutorials/03-making-custom-apertures.html\n",
    "from lightkurve import search_targetpixelfile\n",
    "# get the pixel data for all quarters\n",
    "pixelfile = search_targetpixelfile('KIC 7098049').download_all();"
   ]
  },
  {
   "cell_type": "code",
   "execution_count": 2,
   "metadata": {},
   "outputs": [
    {
     "data": {
      "text/plain": [
       "TargetPixelFileCollection of 13 objects:\n",
       "\t7098049 (13 KeplerTargetPixelFiles) Quarters: 1,2,3,4,6,7,8,10,11,12,14,15,16"
      ]
     },
     "execution_count": 2,
     "metadata": {},
     "output_type": "execute_result"
    }
   ],
   "source": [
    "pixelfile"
   ]
  },
  {
   "cell_type": "code",
   "execution_count": 3,
   "metadata": {
    "scrolled": false
   },
   "outputs": [
    {
     "ename": "NameError",
     "evalue": "name 'plt' is not defined",
     "output_type": "error",
     "traceback": [
      "\u001b[0;31m---------------------------------------------------------------------------\u001b[0m",
      "\u001b[0;31mNameError\u001b[0m                                 Traceback (most recent call last)",
      "\u001b[0;32m<ipython-input-3-375a741c2b15>\u001b[0m in \u001b[0;36m<module>\u001b[0;34m\u001b[0m\n\u001b[1;32m      2\u001b[0m \u001b[0;34m\u001b[0m\u001b[0m\n\u001b[1;32m      3\u001b[0m \u001b[0;32mfor\u001b[0m \u001b[0mquarter\u001b[0m \u001b[0;32min\u001b[0m \u001b[0mrange\u001b[0m\u001b[0;34m(\u001b[0m\u001b[0mlen\u001b[0m\u001b[0;34m(\u001b[0m\u001b[0mpixelfile\u001b[0m\u001b[0;34m)\u001b[0m\u001b[0;34m)\u001b[0m\u001b[0;34m:\u001b[0m\u001b[0;34m\u001b[0m\u001b[0;34m\u001b[0m\u001b[0m\n\u001b[0;32m----> 4\u001b[0;31m     \u001b[0mfig\u001b[0m \u001b[0;34m=\u001b[0m \u001b[0mplt\u001b[0m\u001b[0;34m.\u001b[0m\u001b[0mfigure\u001b[0m\u001b[0;34m(\u001b[0m\u001b[0mfigsize\u001b[0m\u001b[0;34m=\u001b[0m\u001b[0mplt\u001b[0m\u001b[0;34m.\u001b[0m\u001b[0mfigaspect\u001b[0m\u001b[0;34m(\u001b[0m\u001b[0;36m0.25\u001b[0m\u001b[0;34m)\u001b[0m\u001b[0;34m)\u001b[0m\u001b[0;34m;\u001b[0m\u001b[0;34m\u001b[0m\u001b[0;34m\u001b[0m\u001b[0m\n\u001b[0m\u001b[1;32m      5\u001b[0m     \u001b[0max\u001b[0m \u001b[0;34m=\u001b[0m \u001b[0mfig\u001b[0m\u001b[0;34m.\u001b[0m\u001b[0madd_subplot\u001b[0m\u001b[0;34m(\u001b[0m\u001b[0;36m1\u001b[0m\u001b[0;34m,\u001b[0m \u001b[0;36m2\u001b[0m\u001b[0;34m,\u001b[0m \u001b[0;36m1\u001b[0m\u001b[0;34m)\u001b[0m\u001b[0;34m\u001b[0m\u001b[0;34m\u001b[0m\u001b[0m\n\u001b[1;32m      6\u001b[0m     \u001b[0mpixelfile\u001b[0m\u001b[0;34m[\u001b[0m\u001b[0mquarter\u001b[0m\u001b[0;34m]\u001b[0m\u001b[0;34m.\u001b[0m\u001b[0mplot\u001b[0m\u001b[0;34m(\u001b[0m\u001b[0max\u001b[0m\u001b[0;34m=\u001b[0m\u001b[0max\u001b[0m\u001b[0;34m,\u001b[0m \u001b[0mframe\u001b[0m\u001b[0;34m=\u001b[0m\u001b[0;36m2\u001b[0m\u001b[0;34m,\u001b[0m \u001b[0maperture_mask\u001b[0m\u001b[0;34m=\u001b[0m\u001b[0mpixelfile\u001b[0m\u001b[0;34m[\u001b[0m\u001b[0mquarter\u001b[0m\u001b[0;34m]\u001b[0m\u001b[0;34m.\u001b[0m\u001b[0mpipeline_mask\u001b[0m\u001b[0;34m,\u001b[0m \u001b[0mmask_color\u001b[0m\u001b[0;34m=\u001b[0m\u001b[0;34m'red'\u001b[0m\u001b[0;34m)\u001b[0m\u001b[0;34m;\u001b[0m\u001b[0;34m\u001b[0m\u001b[0;34m\u001b[0m\u001b[0m\n",
      "\u001b[0;31mNameError\u001b[0m: name 'plt' is not defined"
     ]
    }
   ],
   "source": [
    "# Check the apertures for quarters where there is data\n",
    "\n",
    "for quarter in range(len(pixelfile)):\n",
    "    fig = plt.figure(figsize=plt.figaspect(0.25));\n",
    "    ax = fig.add_subplot(1, 2, 1)\n",
    "    pixelfile[quarter].plot(ax=ax, frame=2, aperture_mask=pixelfile[quarter].pipeline_mask, mask_color='red');\n",
    "\n",
    "    ax = fig.add_subplot(1, 2, 2)\n",
    "    pixelfile[quarter].plot(ax=ax, frame=2);\n",
    "\n"
   ]
  },
  {
   "cell_type": "code",
   "execution_count": null,
   "metadata": {},
   "outputs": [],
   "source": [
    "# plot the light curve of a sample quarter\n",
    "quarter = 11\n",
    "\n",
    "# make the light curve from the pixel file\n",
    "lc = pixelfile[quarter].to_lightcurve();\n",
    "lc.plot();\n"
   ]
  },
  {
   "cell_type": "code",
   "execution_count": null,
   "metadata": {},
   "outputs": [],
   "source": [
    "# make light curves out of the pixel data using all quarters, detrended by .flatten() so they line up together\n",
    "lc = pixelfile[0].to_lightcurve().flatten();\n",
    "for pf in pixelfile[1:]:\n",
    "    lc = lc.append(pf.to_lightcurve().flatten())\n",
    "lc.remove_nans().remove_outliers()\n",
    "\n",
    "lc.plot();"
   ]
  },
  {
   "cell_type": "code",
   "execution_count": null,
   "metadata": {},
   "outputs": [],
   "source": [
    "# remove signals that are common to all nearby stars using the Cotrending Basis Vectors (CBVs)\n",
    "\n",
    "from lightkurve.correctors import KeplerCBVCorrector\n",
    "\n",
    "# look at example CBVs to make sure they are reasonable\n",
    "KeplerCBVCorrector(lc).plot_cbvs([1,2,3,4,5,6,7,8]);\n",
    "# make corrected light curves out of the pixel data using all quarters, detrended by .flatten()\n",
    "# the .correct() function removes signals correlated with the CBVs\n",
    "temp_lc = pixelfile[0].to_lightcurve();\n",
    "corr_lc =  KeplerCBVCorrector(temp_lc).correct(cbvs=[1,2,3,4,5]).flatten()\n",
    "for pf in pixelfile[1:]:\n",
    "    temp_lc = pf.to_lightcurve()\n",
    "    corr_lc = corr_lc.append(KeplerCBVCorrector(temp_lc).correct(cbvs=[1,2,3,4,5]).flatten())\n",
    "corr_lc.remove_nans().remove_outliers()\n",
    "corr_lc.plot();"
   ]
  },
  {
   "cell_type": "code",
   "execution_count": null,
   "metadata": {},
   "outputs": [],
   "source": [
    "# plot the folded light curve by period and epoch\n",
    "period = 31.0655819;\n",
    "epoch = 151.711;\n",
    "\n",
    "xRangeHours = 50\n",
    "yRange = 2e-3\n",
    "binFactor = 20\n",
    "periodHours = period*24\n",
    "\n",
    "foldedLc = lc.fold(period = period, t0=epoch)\n",
    "foldedBinnedLc = lc.fold(period = period, t0=epoch).bin(binFactor)\n",
    "\n",
    "plt.figure(figsize=(20,10))\n",
    "plt.plot(foldedLc.phase*periodHours, foldedLc.flux, '.', alpha=0.5)\n",
    "plt.plot(foldedBinnedLc.phase*periodHours, foldedBinnedLc.flux, lw=2)\n",
    "plt.xlim(-xRangeHours, xRangeHours)\n",
    "plt.ylim(1-yRange, 1+yRange);\n",
    "plt.tick_params(labelsize = 18)\n",
    "plt.xlabel(\"Orbital Phase (hours)\", fontsize = 24)\n",
    "plt.ylabel(\"Normalized Flux\", fontsize = 24)\n",
    "plt.title(\"Uncorrected Flux\", fontsize = 24)\n"
   ]
  },
  {
   "cell_type": "code",
   "execution_count": null,
   "metadata": {},
   "outputs": [],
   "source": [
    "foldedCorrectedLc = corr_lc.fold(period = period, t0=epoch)\n",
    "foldedBinnedCorrectedLc = corr_lc.fold(period = period, t0=epoch).bin(binFactor).remove_outliers()\n",
    "\n",
    "plt.figure(figsize=(20,10))\n",
    "plt.plot(foldedCorrectedLc.phase*periodHours, foldedCorrectedLc.flux, '.', alpha=0.5)\n",
    "plt.plot(foldedBinnedCorrectedLc.phase*periodHours, foldedBinnedCorrectedLc.flux, lw=2)\n",
    "plt.xlim(-xRangeHours, xRangeHours)\n",
    "plt.ylim(1-yRange, 1+yRange);\n",
    "plt.tick_params(labelsize = 18)\n",
    "plt.xlabel(\"Orbital Phase (hours)\", fontsize = 24)\n",
    "plt.ylabel(\"Normalized Flux\", fontsize = 24)\n",
    "plt.title(\"Corrected Flux\", fontsize = 24)\n"
   ]
  },
  {
   "cell_type": "code",
   "execution_count": null,
   "metadata": {},
   "outputs": [],
   "source": []
  },
  {
   "cell_type": "code",
   "execution_count": null,
   "metadata": {},
   "outputs": [],
   "source": []
  }
 ],
 "metadata": {
  "kernelspec": {
   "display_name": "Python 3",
   "language": "python",
   "name": "python3"
  },
  "language_info": {
   "codemirror_mode": {
    "name": "ipython",
    "version": 3
   },
   "file_extension": ".py",
   "mimetype": "text/x-python",
   "name": "python",
   "nbconvert_exporter": "python",
   "pygments_lexer": "ipython3",
   "version": "3.6.10"
  }
 },
 "nbformat": 4,
 "nbformat_minor": 2
}
