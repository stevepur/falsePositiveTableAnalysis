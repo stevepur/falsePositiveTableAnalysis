{
 "cells": [
  {
   "cell_type": "code",
   "execution_count": null,
   "metadata": {},
   "outputs": [],
   "source": [
    "import matplotlib.pyplot as plt\n",
    "# follow the tutorial at http://docs.lightkurve.org/tutorials/03-making-custom-apertures.html\n",
    "from lightkurve import search_targetpixelfile\n",
    "# get the pixel data for all quarters\n",
    "pixelfile = search_targetpixelfile('KIC 5177859').download_all();"
   ]
  },
  {
   "cell_type": "code",
   "execution_count": null,
   "metadata": {},
   "outputs": [],
   "source": [
    "pixelfile"
   ]
  },
  {
   "cell_type": "code",
   "execution_count": null,
   "metadata": {
    "scrolled": false
   },
   "outputs": [],
   "source": [
    "# Check the apertures for quarters where there is data\n",
    "\n",
    "for quarter in range(len(pixelfile)):\n",
    "    fig = plt.figure(figsize=plt.figaspect(0.25));\n",
    "    ax = fig.add_subplot(1, 2, 1)\n",
    "    pixelfile[quarter].plot(ax=ax, frame=2, aperture_mask=pixelfile[quarter].pipeline_mask, mask_color='red');\n",
    "\n",
    "    ax = fig.add_subplot(1, 2, 2)\n",
    "    pixelfile[quarter].plot(ax=ax, frame=2);\n",
    "\n"
   ]
  },
  {
   "cell_type": "code",
   "execution_count": null,
   "metadata": {},
   "outputs": [],
   "source": [
    "# make light curves out of the pixel data using all quarters, detrended by .flatten() so they line up together\n",
    "lc = pixelfile[0].to_lightcurve().flatten();\n",
    "for pf in pixelfile[1:]:\n",
    "    lc = lc.append(pf.to_lightcurve().flatten())\n",
    "lc.remove_nans().remove_outliers()\n",
    "\n",
    "lc.plot();"
   ]
  },
  {
   "cell_type": "code",
   "execution_count": null,
   "metadata": {},
   "outputs": [],
   "source": [
    "# remove signals that are common to all nearby stars using the Cotrending Basis Vectors (CBVs)\n",
    "\n",
    "from lightkurve.correctors import KeplerCBVCorrector\n",
    "\n",
    "# look at example CBVs to make sure they are reasonable\n",
    "KeplerCBVCorrector(lc).plot_cbvs([1,2,3,4,5,6,7,8]);\n",
    "# make corrected light curves out of the pixel data using all quarters, detrended by .flatten()\n",
    "# the .correct() function removes signals correlated with the CBVs\n",
    "temp_lc = pixelfile[0].to_lightcurve();\n",
    "corr_lc =  KeplerCBVCorrector(temp_lc).correct(cbvs=[1,2,3,4,5]).flatten()\n",
    "for pf in pixelfile[1:]:\n",
    "    temp_lc = pf.to_lightcurve()\n",
    "    corr_lc = corr_lc.append(KeplerCBVCorrector(temp_lc).correct(cbvs=[1,2,3,4,5]).flatten())\n",
    "corr_lc.remove_nans().remove_outliers()\n",
    "corr_lc.plot();"
   ]
  },
  {
   "cell_type": "code",
   "execution_count": null,
   "metadata": {},
   "outputs": [],
   "source": [
    "# plot the folded light curve by period and epoch\n",
    "period = 5.558420;\n",
    "epoch = 134.090708;\n",
    "\n",
    "xRangeHours = 50\n",
    "yRange = 5e-4\n",
    "binFactor = 60\n",
    "periodHours = period*24\n",
    "\n",
    "foldedLc = lc.fold(period = period, t0=epoch)\n",
    "foldedBinnedLc = lc.fold(period = period, t0=epoch).bin(binFactor)\n",
    "\n",
    "plt.figure(figsize=(20,10))\n",
    "plt.plot(foldedLc.phase*periodHours, foldedLc.flux, '.', alpha=0.3)\n",
    "plt.plot(foldedBinnedLc.phase*periodHours, foldedBinnedLc.flux, lw=2)\n",
    "plt.xlim(-xRangeHours, xRangeHours)\n",
    "plt.ylim(1-yRange, 1+yRange);\n",
    "plt.tick_params(labelsize = 18)\n",
    "plt.xlabel(\"Orbital Phase (hours)\", fontsize = 24)\n",
    "plt.ylabel(\"Normalized Flux\", fontsize = 24)\n",
    "plt.title(\"Uncorrected Flux\", fontsize = 24)\n"
   ]
  },
  {
   "cell_type": "code",
   "execution_count": null,
   "metadata": {},
   "outputs": [],
   "source": [
    "foldedCorrectedLc = corr_lc.fold(period = period, t0=epoch)\n",
    "foldedBinnedCorrectedLc = corr_lc.fold(period = period, t0=epoch).bin(binFactor).remove_outliers()\n",
    "\n",
    "plt.figure(figsize=(20,10))\n",
    "plt.plot(foldedCorrectedLc.phase*periodHours, foldedCorrectedLc.flux, '.', alpha=0.3)\n",
    "plt.plot(foldedBinnedCorrectedLc.phase*periodHours, foldedBinnedCorrectedLc.flux, lw=4)\n",
    "plt.xlim(-xRangeHours, xRangeHours)\n",
    "plt.ylim(1-yRange, 1+yRange);\n",
    "plt.tick_params(labelsize = 18)\n",
    "plt.xlabel(\"Orbital Phase (hours)\", fontsize = 24)\n",
    "plt.ylabel(\"Normalized Flux\", fontsize = 24)\n",
    "plt.title(\"Corrected Flux\", fontsize = 24)\n",
    "plt.savefig(\"TCE7098049-01.pdf\",facecolor='white', transparent=False, bbox_inches='tight')\n"
   ]
  },
  {
   "cell_type": "code",
   "execution_count": null,
   "metadata": {},
   "outputs": [],
   "source": [
    "import subprocess\n",
    "import os\n",
    "from astropy.io import fits\n",
    "import numpy as np\n",
    "\n",
    "def get_dv_model(kepid, tceNum, wgetFileName):\n",
    "    # grep the file for this kepid\n",
    "    # a reader is returned\n",
    "    a =  subprocess.Popen(\"grep \"+str(kepid)+\" \"+wgetFileName+\" | grep _dvt.fits\",\n",
    "                          shell=True, stdout=subprocess.PIPE).stdout\n",
    "    # decode the output, and split with newline because the same kepid can appear multiple times\n",
    "    gs = a.read().decode().split(\"\\n\")[0]\n",
    "    # get the fits file URL, which is the fourth term in the output line\n",
    "    urlStr = gs.split(\" \")[3]\n",
    "    # get the file\n",
    "    getStr = \"wget -O tempFits.fits \" + urlStr\n",
    "    os.system(getStr)\n",
    "    \n",
    "    fitsData = fits.open(\"tempFits.fits\")\n",
    "    # there are several elements:\n",
    "    # element 0 is overall information\n",
    "    # followed by one element per TCE\n",
    "    # so the TCE number correctly indexes into the fits file\n",
    "    dvModel = {}\n",
    "    dvModel[\"model\"] = np.zeros(len(fitsData[tceNum].data))\n",
    "    dvModel[\"time\"] = np.zeros(len(fitsData[tceNum].data))\n",
    "    for i in range(len(fitsData[tceNum].data)):\n",
    "        # BKJD time is the first field\n",
    "        dvModel[\"time\"][i] = fitsData[tceNum].data[i][0]\n",
    "        # the DV lightcurve model is the 9th field\n",
    "        dvModel[\"model\"][i] = fitsData[tceNum].data[i][8]\n",
    "\n",
    "    return dvModel\n"
   ]
  },
  {
   "cell_type": "code",
   "execution_count": null,
   "metadata": {},
   "outputs": [],
   "source": [
    "# requires the file found on the exoplanet archive https://exoplanetarchive.ipac.caltech.edu/bulk_data_download/Kepler_TCE_DV_DR25_wget.bat\n",
    "transitModel = get_dv_model(7098049, 1, \"/Volumes/DR25_data/dvFitsFiles/Kepler_TCE_DV_DR25_wget.bat\")\n"
   ]
  },
  {
   "cell_type": "code",
   "execution_count": null,
   "metadata": {},
   "outputs": [],
   "source": [
    "modelPhase = periodHours*np.mod(transitModel[\"time\"] + period/2 - epoch, period)/period - periodHours/2\n",
    "plt.plot(modelPhase, transitModel[\"model\"], '.')"
   ]
  },
  {
   "cell_type": "code",
   "execution_count": null,
   "metadata": {},
   "outputs": [],
   "source": [
    "defaultColors = plt.rcParams['axes.prop_cycle'].by_key()['color']"
   ]
  },
  {
   "cell_type": "code",
   "execution_count": null,
   "metadata": {},
   "outputs": [],
   "source": [
    "binFactors = range(10,80,1)\n",
    "\n",
    "plt.figure(figsize=(20,10))\n",
    "plt.plot(foldedCorrectedLc.phase*periodHours, foldedCorrectedLc.flux, '.', alpha=0.3)\n",
    "for binFactor in binFactors:\n",
    "    lc = corr_lc.fold(period = period, t0=epoch).bin(binFactor).remove_outliers()\n",
    "    plt.plot(lc.phase*periodHours, lc.flux, color=defaultColors[1], lw=4, alpha = 0.05)\n",
    "plt.plot(modelPhase, transitModel[\"model\"] + 1, 'k.', ms = 2, alpha = 1)\n",
    "plt.xlim(-xRangeHours, xRangeHours)\n",
    "plt.ylim(1-yRange, 1+yRange);\n",
    "plt.tick_params(labelsize = 18)\n",
    "plt.xlabel(\"Orbital Phase (hours)\", fontsize = 24)\n",
    "plt.ylabel(\"Normalized Flux\", fontsize = 24)\n",
    "# plt.title(\"Corrected Flux\", fontsize = 24)\n",
    "plt.savefig(\"TCE7098049-01.png\",facecolor='white', transparent=False, bbox_inches='tight')\n"
   ]
  },
  {
   "cell_type": "code",
   "execution_count": null,
   "metadata": {},
   "outputs": [],
   "source": []
  },
  {
   "cell_type": "code",
   "execution_count": null,
   "metadata": {},
   "outputs": [],
   "source": []
  }
 ],
 "metadata": {
  "kernelspec": {
   "display_name": "Python 3",
   "language": "python",
   "name": "python3"
  },
  "language_info": {
   "codemirror_mode": {
    "name": "ipython",
    "version": 3
   },
   "file_extension": ".py",
   "mimetype": "text/x-python",
   "name": "python",
   "nbconvert_exporter": "python",
   "pygments_lexer": "ipython3",
   "version": "3.8.5"
  }
 },
 "nbformat": 4,
 "nbformat_minor": 2
}
