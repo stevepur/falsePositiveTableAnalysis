{
 "cells": [
  {
   "cell_type": "code",
   "execution_count": null,
   "metadata": {},
   "outputs": [],
   "source": [
    "import matplotlib.pyplot as plt\n",
    "# follow the tutorial at http://docs.lightkurve.org/tutorials/03-making-custom-apertures.html\n",
    "from lightkurve import search_targetpixelfile\n",
    "# get the pixel data for all quarters\n",
    "pixelfile = search_targetpixelfile('KIC 5962124').download_all();"
   ]
  },
  {
   "cell_type": "code",
   "execution_count": null,
   "metadata": {},
   "outputs": [],
   "source": [
    "pixelfile"
   ]
  },
  {
   "cell_type": "code",
   "execution_count": null,
   "metadata": {
    "scrolled": false
   },
   "outputs": [],
   "source": [
    "# Check the apertures for quarters where there is data\n",
    "\n",
    "for quarter in range(len(pixelfile)):\n",
    "    fig = plt.figure(figsize=plt.figaspect(0.25));\n",
    "    ax = fig.add_subplot(1, 2, 1)\n",
    "    pixelfile[quarter].plot(ax=ax, frame=2, aperture_mask=pixelfile[quarter].pipeline_mask, mask_color='red');\n",
    "\n",
    "    ax = fig.add_subplot(1, 2, 2)\n",
    "    pixelfile[quarter].plot(ax=ax, frame=2);\n",
    "\n"
   ]
  },
  {
   "cell_type": "code",
   "execution_count": null,
   "metadata": {},
   "outputs": [],
   "source": [
    "# plot the light curve of a sample quarter\n",
    "quarter = 11\n",
    "\n",
    "# make the light curve from the pixel file\n",
    "lc = pixelfile[quarter].to_lightcurve();\n",
    "lc.plot();\n"
   ]
  },
  {
   "cell_type": "code",
   "execution_count": null,
   "metadata": {},
   "outputs": [],
   "source": [
    "# make light curves out of the pixel data using all quarters, detrended by .flatten() so they line up together\n",
    "lc = pixelfile[0].to_lightcurve().flatten();\n",
    "for pf in pixelfile[1:]:\n",
    "    lc = lc.append(pf.to_lightcurve().flatten())\n",
    "lc.remove_nans().remove_outliers()\n",
    "\n",
    "lc.plot();\n",
    "# plt.ylim(1-0.01, 1+0.01);"
   ]
  },
  {
   "cell_type": "code",
   "execution_count": null,
   "metadata": {},
   "outputs": [],
   "source": [
    "lc.show_properties()"
   ]
  },
  {
   "cell_type": "code",
   "execution_count": null,
   "metadata": {
    "scrolled": false
   },
   "outputs": [],
   "source": [
    "# remove signals that are common to all nearby stars using the Cotrending Basis Vectors (CBVs)\n",
    "\n",
    "from lightkurve.correctors import KeplerCBVCorrector\n",
    "# display the CBVs for each quarter\n",
    "for pf in pixelfile[1:]:\n",
    "    KeplerCBVCorrector(pf.to_lightcurve()).plot_cbvs([1,2,3,4,5,6,7,8]);"
   ]
  },
  {
   "cell_type": "code",
   "execution_count": null,
   "metadata": {},
   "outputs": [],
   "source": []
  },
  {
   "cell_type": "code",
   "execution_count": null,
   "metadata": {},
   "outputs": [],
   "source": [
    "\n",
    "# make corrected light curves out of the pixel data using all quarters, detrended by .flatten()\n",
    "# the .correct() function removes signals correlated with the CBVs\n",
    "temp_lc = pixelfile[0].to_lightcurve();\n",
    "corr_lc =  KeplerCBVCorrector(temp_lc).correct(cbvs=[1,2,3,4]).flatten()\n",
    "for pf in pixelfile[1:]:\n",
    "    temp_lc = pf.to_lightcurve()\n",
    "    corr_lc = corr_lc.append(KeplerCBVCorrector(temp_lc).correct(cbvs=[1,2,3,4]).flatten())\n",
    "corr_lc.remove_nans().remove_outliers()\n",
    "corr_lc.plot();\n",
    "# plt.ylim(1-0.01, 1+0.01);"
   ]
  },
  {
   "cell_type": "code",
   "execution_count": null,
   "metadata": {},
   "outputs": [],
   "source": [
    "# plot the folded light curve by period and epoch\n",
    "period = 519.365;\n",
    "epoch = 146.512;\n",
    "\n",
    "xRangeHours = 400\n",
    "yRange = 1e-3\n",
    "binFactor = 8\n",
    "periodHours = period*24\n",
    "\n",
    "foldedLc = lc.fold(period = period, t0=epoch)\n",
    "foldedBinnedLc = lc.fold(period = period, t0=epoch).bin(binFactor).remove_outliers()\n",
    "\n",
    "plt.figure(figsize=(20,10))\n",
    "plt.plot(foldedLc.phase*periodHours, foldedLc.flux, '.', alpha=0.5)\n",
    "plt.plot(foldedBinnedLc.phase*periodHours, foldedBinnedLc.flux, lw=2)\n",
    "plt.xlim(-xRangeHours, xRangeHours)\n",
    "plt.ylim(1-yRange, 1+yRange);\n",
    "plt.tick_params(labelsize = 18)\n",
    "plt.xlabel(\"Orbital Phase (hours)\", fontsize = 24)\n",
    "plt.ylabel(\"Normalized Flux\", fontsize = 24)\n",
    "plt.title(\"Uncorrected Flux\", fontsize = 24)\n"
   ]
  },
  {
   "cell_type": "code",
   "execution_count": null,
   "metadata": {},
   "outputs": [],
   "source": [
    "foldedCorrectedLc = corr_lc.fold(period = period, t0=epoch)\n",
    "foldedBinnedCorrectedLc = corr_lc.fold(period = period, t0=epoch).bin(binFactor).remove_outliers()\n",
    "\n",
    "plt.figure(figsize=(20,10))\n",
    "plt.plot(foldedCorrectedLc.phase*periodHours, foldedCorrectedLc.flux, '.', alpha=0.5)\n",
    "plt.plot(foldedBinnedCorrectedLc.phase*periodHours, foldedBinnedCorrectedLc.flux, lw=2)\n",
    "plt.xlim(-xRangeHours, xRangeHours)\n",
    "plt.ylim(1-yRange, 1+yRange);\n",
    "plt.tick_params(labelsize = 18)\n",
    "plt.xlabel(\"Orbital Phase (hours)\", fontsize = 24)\n",
    "plt.ylabel(\"Normalized Flux\", fontsize = 24)\n",
    "plt.title(\"Corrected Flux\", fontsize = 24)\n"
   ]
  },
  {
   "cell_type": "code",
   "execution_count": null,
   "metadata": {},
   "outputs": [],
   "source": []
  },
  {
   "cell_type": "code",
   "execution_count": null,
   "metadata": {},
   "outputs": [],
   "source": [
    "duration = 4.68*(1.596**(-1/3))*((390.619/365.25)**(1/3))\n",
    "print(\"duration is \" + str(duration) + \" times as long as an Earth transit\")"
   ]
  },
  {
   "cell_type": "code",
   "execution_count": null,
   "metadata": {},
   "outputs": [],
   "source": [
    "390.619/365.25"
   ]
  },
  {
   "cell_type": "code",
   "execution_count": null,
   "metadata": {},
   "outputs": [],
   "source": [
    "1.596**(-1/3)"
   ]
  },
  {
   "cell_type": "code",
   "execution_count": null,
   "metadata": {},
   "outputs": [],
   "source": [
    "print(\"duration is \" + str(duration*13) + \" hours\")"
   ]
  },
  {
   "cell_type": "code",
   "execution_count": null,
   "metadata": {},
   "outputs": [],
   "source": [
    "import numpy as np\n",
    "durationImpact = duration*np.sqrt(1 - (0.59)**2)\n",
    "print(\"duration with impact parameter is \" + str(durationImpact*13) + \" hours\")\n"
   ]
  },
  {
   "cell_type": "code",
   "execution_count": null,
   "metadata": {},
   "outputs": [],
   "source": []
  }
 ],
 "metadata": {
  "kernelspec": {
   "display_name": "Python 3",
   "language": "python",
   "name": "python3"
  },
  "language_info": {
   "codemirror_mode": {
    "name": "ipython",
    "version": 3
   },
   "file_extension": ".py",
   "mimetype": "text/x-python",
   "name": "python",
   "nbconvert_exporter": "python",
   "pygments_lexer": "ipython3",
   "version": "3.6.10"
  }
 },
 "nbformat": 4,
 "nbformat_minor": 2
}
